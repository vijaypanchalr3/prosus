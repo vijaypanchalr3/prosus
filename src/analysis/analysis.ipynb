{
 "cells": [
  {
   "cell_type": "markdown",
   "id": "cef6a2b5",
   "metadata": {},
   "source": [
    "impoting standard data analysis tools"
   ]
  },
  {
   "cell_type": "code",
   "execution_count": null,
   "id": "71ea2965",
   "metadata": {},
   "outputs": [],
   "source": [
    "import matplotlib.pyplot as plt\n",
    "import matplotlib.font_manager as font_manager\n",
    "\n",
    "\n",
    "leg_font = font_manager.FontProperties(size=12)\n",
    "font = {'color':'black','size':12}\n",
    "\n",
    "import numpy as np"
   ]
  },
  {
   "cell_type": "markdown",
   "id": "45265be6",
   "metadata": {},
   "source": [
    "# DATAs\n",
    "\n",
    "files and data loading in the notebook"
   ]
  },
  {
   "cell_type": "code",
   "execution_count": null,
   "id": "0919afe5",
   "metadata": {},
   "outputs": [],
   "source": [
    "import tools"
   ]
  },
  {
   "cell_type": "code",
   "execution_count": null,
   "id": "15f57adc-b161-42fc-8085-be3473083115",
   "metadata": {},
   "outputs": [],
   "source": [
    "background1=tools.data(\"../data/background4wnickel.csv\")\n",
    "background2=tools.data(\"../data/background6afterLSMO.csv\")\n",
    "sample1=tools.data(\"../data/sample2nickel.csv\")\n",
    "sample2=tools.data(\"../data/sample3LSMO.csv\")\n",
    "voltage1=tools.data(\"../data/voltagenickel.csv\")\n",
    "voltage2=tools.data(\"../data/sample3voltageLSMO.csv\")\n"
   ]
  },
  {
   "cell_type": "code",
   "execution_count": null,
   "id": "c3bef245",
   "metadata": {},
   "outputs": [],
   "source": [
    "header = background1.header\n",
    "\n",
    "arrays_bg1 = background1.arrays\n",
    "arrays_bg2 = background2.arrays\n",
    "arrays_sa1 = sample1.arrays\n",
    "arrays_sa2 = sample2.arrays\n",
    "arrays_vo1 = voltage1.arrays\n",
    "arrays_vo2 = voltage2.arrays"
   ]
  },
  {
   "cell_type": "markdown",
   "id": "0247e04a",
   "metadata": {},
   "source": [
    "# Background Statistical data"
   ]
  },
  {
   "cell_type": "markdown",
   "id": "d996faeb",
   "metadata": {},
   "source": [
    "## Background 1"
   ]
  },
  {
   "cell_type": "code",
   "execution_count": null,
   "id": "2bcbabc4",
   "metadata": {},
   "outputs": [],
   "source": [
    "fig, axs = plt.subplots(2,2,squeeze=False,sharey=True)\n",
    "axs[0,0].hist(arrays_bg1[0],bins=100)\n",
    "axs[0,0].set_title(\"X values in volts\")\n",
    "axs[0,1].hist(arrays_bg1[1],bins=100)\n",
    "axs[0,1].set_title(\"Y values in volts\")\n",
    "axs[1,0].hist(arrays_bg1[2],bins=100)\n",
    "axs[1,0].set_title(\"R values in volts\")\n",
    "axs[1,1].hist(arrays_bg1[3],bins=100)\n",
    "axs[1,1].set_title(\"phase in degrees\")\n"
   ]
  },
  {
   "cell_type": "code",
   "execution_count": null,
   "id": "5bca1cf8",
   "metadata": {},
   "outputs": [],
   "source": [
    "plt.hist(arrays_s1[3],bins=100)"
   ]
  },
  {
   "cell_type": "code",
   "execution_count": null,
   "id": "03aab249",
   "metadata": {},
   "outputs": [],
   "source": [
    "def mean(array):\n",
    "    count =0\n",
    "    mean =0\n",
    "    for i in array:\n",
    "        mean+=i\n",
    "        count+=1\n",
    "    return mean/count \n",
    "\n"
   ]
  },
  {
   "cell_type": "code",
   "execution_count": null,
   "id": "438f69af",
   "metadata": {},
   "outputs": [],
   "source": [
    "X_back = mean(arrays[0])\n",
    "X_sample =mean(arrays2[0])\n",
    "X_result=X_sample-X_back\n",
    "X_result\n",
    "\n",
    "Y_back = mean(arrays[1])\n",
    "Y_sample =mean(arrays2[1])\n",
    "Y_result=Y_sample-Y_back\n",
    "Y_result\n",
    "\n",
    "R_back = mean(arrays[2])\n",
    "R_sample =mean(arrays2[2])\n",
    "R_result=R_sample-R_back\n",
    "R_result\n",
    "\n",
    "T_back = mean(arrays[3])\n",
    "T_sample =mean(arrays2[3])\n",
    "T_result=T_sample-T_back\n",
    "\n",
    "print(X_result,Y_result,R_result,T_result)"
   ]
  },
  {
   "cell_type": "markdown",
   "id": "89748c8e",
   "metadata": {},
   "source": [
    "# plot"
   ]
  },
  {
   "cell_type": "code",
   "execution_count": null,
   "id": "cd7d061c",
   "metadata": {},
   "outputs": [],
   "source": [
    "def plotvo(xnum, ynum)->None:\n",
    "    # plt.plot(np.arange(len(arrays_bg1[0])),arrays_bg1[ynum],\"o\",markersize=2, label=\"background1\")\n",
    "    plt.plot(arrays_vo1[xnum],arrays_vo1[ynum],\"o\", markersize=2, label=\"nickel\")\n",
    "    plt.plot(arrays_vo2[xnum],arrays_vo2[ynum],\"o\", markersize=2, label=\"LSMO\")\n",
    "    plt.legend()\n",
    "    plt.xlabel(header[xnum])\n",
    "    plt.ylabel(header[ynum])\n",
    "    plt.show()\n",
    "\n",
    "def plotsa(ynum)-> None:\n",
    "    # plt.plot(np.arange(len(arrays_bg1[0])),arrays_bg1[ynum],\"o\",markersize=2, label=\"background1\")\n",
    "    plt.plot(np.arange(len(arrays_sa1[0])),arrays_sa1[ynum],\"o\", markersize=2, label=\"sample1\")\n",
    "    plt.plot(np.arange(len(arrays_bg1[0])),arrays_bg1[ynum],\"o\", markersize=2, label=\"sample1 bg\")\n",
    "    plt.plot(np.arange(len(arrays_sa2[0])),arrays_sa2[ynum],\"o\", markersize=2, label=\"sample2\")\n",
    "    plt.plot(np.arange(len(arrays_bg2[0])),arrays_bg2[ynum],\"o\", markersize=2, label=\"sample2 bg\")\n",
    "    plt.legend()\n",
    "    plt.xlabel(\"count\")\n",
    "    plt.ylabel(header[ynum])\n",
    "    plt.show()\n"
   ]
  },
  {
   "cell_type": "code",
   "execution_count": null,
   "id": "d2d32e40",
   "metadata": {},
   "outputs": [],
   "source": [
    "plotsa(0)\n",
    "plotsa(1)\n",
    "plotsa(2)\n",
    "plotsa(3)"
   ]
  },
  {
   "cell_type": "code",
   "execution_count": null,
   "id": "b32c821b",
   "metadata": {},
   "outputs": [],
   "source": [
    "plotsa()"
   ]
  },
  {
   "cell_type": "code",
   "execution_count": null,
   "id": "20566b04",
   "metadata": {},
   "outputs": [],
   "source": [
    "plot(0,3)"
   ]
  },
  {
   "cell_type": "code",
   "execution_count": null,
   "id": "8876f44e",
   "metadata": {},
   "outputs": [],
   "source": [
    "plot(0,4)"
   ]
  },
  {
   "cell_type": "code",
   "execution_count": null,
   "id": "b11005ce",
   "metadata": {},
   "outputs": [],
   "source": []
  }
 ],
 "metadata": {
  "kernelspec": {
   "display_name": "Python 3",
   "language": "python",
   "name": "python3"
  },
  "language_info": {
   "codemirror_mode": {
    "name": "ipython",
    "version": 3
   },
   "file_extension": ".py",
   "mimetype": "text/x-python",
   "name": "python",
   "nbconvert_exporter": "python",
   "pygments_lexer": "ipython3",
   "version": "3.11.2"
  }
 },
 "nbformat": 4,
 "nbformat_minor": 5
}
