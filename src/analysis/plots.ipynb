{
 "cells": [
  {
   "cell_type": "code",
   "execution_count": 1,
   "metadata": {},
   "outputs": [],
   "source": [
    "import tools\n",
    "import plotstyles"
   ]
  },
  {
   "cell_type": "code",
   "execution_count": 2,
   "metadata": {},
   "outputs": [],
   "source": [
    "background1=tools.data(\"../data/background4wnickel.csv\")\n",
    "background2=tools.data(\"../data/background6afterLSMO.csv\")\n",
    "background3=tools.data(\"../data/background3.csv\")\n",
    "sample1=tools.data(\"../data/sample2nickel.csv\")\n",
    "sample2=tools.data(\"../data/sample3LSMO.csv\")\n",
    "sample3=tools.data(\"../data/sample1.csv\")\n",
    "voltage1=tools.data(\"../data/voltagenickel.csv\")\n",
    "voltage2=tools.data(\"../data/sample3voltageLSMO.csv\")\n",
    "\n",
    "\n",
    "header = background1.header\n",
    "\n",
    "arrays_bg1 = background1.arrays\n",
    "arrays_bg2 = background2.arrays\n",
    "arrays_bg3 = background3.arrays\n",
    "arrays_sa1 = sample1.arrays\n",
    "arrays_sa2 = sample2.arrays\n",
    "arrays_sa3 = sample3.arrays\n",
    "arrays_vo1 = voltage1.arrays\n",
    "arrays_vo2 = voltage2.arrays"
   ]
  },
  {
   "cell_type": "markdown",
   "metadata": {},
   "source": [
    "## joint scatter and hist PLOT "
   ]
  },
  {
   "cell_type": "code",
   "execution_count": null,
   "metadata": {},
   "outputs": [],
   "source": [
    "# plotstyles.scatter_with_hist(arrays_bg3[0],arrays_sa3[0], label1=\"Background\", label2=\"Sample\", ylabel=\"X values in volts\",suptitle=\"Fe_2O_3\", savefile=\"fe2o3X.png\")\n",
    "# plotstyles.scatter_with_hist(arrays_bg3[0],arrays_sa3[0], label1=\"Background\", label2=\"Sample\", ylabel=\"X values in volts\",suptitle=\"Fe_2O_3\", savefile=\"fe2o3X.svg\")\n",
    "# plotstyles.scatter_with_hist(arrays_sa3[1],arrays_bg3[1], label1=\"Sample\", label2=\"Background\", ylabel=\"Y values in volts\",suptitle=\"Fe_2O_3\", savefile=\"fe2o3Y.png\")\n",
    "# plotstyles.scatter_with_hist(arrays_sa3[1],arrays_bg3[1], label1=\"Sample\", label2=\"Background\", ylabel=\"Y values in volts\",suptitle=\"Fe_2O_3\", savefile=\"fe2o3Y.svg\")\n",
    "# plotstyles.scatter_with_hist(arrays_sa3[2],arrays_bg3[2], label1=\"Sample\", label2=\"Background\", ylabel=\"R values in volts\",suptitle=\"Fe_2O_3\", savefile=\"fe2o3R.png\")\n",
    "# plotstyles.scatter_with_hist(arrays_sa3[2],arrays_bg3[2], label1=\"Sample\", label2=\"Background\", ylabel=\"R values in volts\",suptitle=\"Fe_2O_3\", savefile=\"fe2o3R.svg\")\n",
    "# plotstyles.scatter_with_hist(arrays_sa3[3],arrays_bg3[3], label1=\"Sample\", label2=\"Background\", ylabel=\"phase values in degree\",suptitle=\"Fe_2O_3\", savefile=\"fe2o3T.png\")\n",
    "# plotstyles.scatter_with_hist(arrays_sa3[3],arrays_bg3[3], label1=\"Sample\", label2=\"Background\", ylabel=\"phase values in degree\",suptitle=\"Fe_2O_3\", savefile=\"fe2o3T.svg\")\n",
    "# plotstyles.scatter_with_hist(arrays_sa2[0],arrays_bg2[0], label1=\"Sample\", label2=\"Background\", ylabel=\"X values in volts\",suptitle=\"LSMO\", savefile=\"LSMOX.png\")\n",
    "# plotstyles.scatter_with_hist(arrays_sa2[1],arrays_bg2[1], label1=\"Sample\", label2=\"Background\", ylabel=\"Y values in volts\",suptitle=\"LSMO\", savefile=\"LSMOY.png\")\n",
    "# plotstyles.scatter_with_hist(arrays_sa2[2],arrays_bg2[2], label1=\"Sample\", label2=\"Background\", ylabel=\"R values in volts\",suptitle=\"LSMO\", savefile=\"LSMOR.png\")\n",
    "# plotstyles.scatter_with_hist(arrays_sa2[3],arrays_bg2[3], label1=\"Sample\", label2=\"Background\", ylabel=\"phase values in degree\",suptitle=\"LSMO\", savefile=\"LSMOT.png\")\n",
    "# plotstyles.scatter_with_hist(arrays_sa1[0],arrays_bg1[0], label1=\"Sample\", label2=\"Background\", ylabel=\"X values in volts\",suptitle=\"Nickel\", savefile=\"nickelX.png\")\n",
    "# plotstyles.scatter_with_hist(arrays_sa1[1],arrays_bg1[1], label1=\"Sample\", label2=\"Background\", ylabel=\"Y values in volts\",suptitle=\"Nickel\", savefile=\"nickelY.png\")\n",
    "# plotstyles.scatter_with_hist(arrays_sa1[2],arrays_bg1[2], label1=\"Sample\", label2=\"Background\", ylabel=\"R values in volts\",suptitle=\"Nickel\", savefile=\"nickelR.png\")\n",
    "# plotstyles.scatter_with_hist(arrays_sa1[3],arrays_bg1[3], label1=\"Sample\", label2=\"Background\", ylabel=\"Phase values in degree\",suptitle=\"Nickel\", savefile=\"nickelT.png\")\n",
    "# plotstyles.scatter_with_hist(arrays_sa2[0],arrays_bg2[0], label1=\"Sample\", label2=\"Background\", ylabel=\"X values in volts\",suptitle=\"LSMO\", savefile=\"LSMOX.svg\")\n",
    "# plotstyles.scatter_with_hist(arrays_sa2[1],arrays_bg2[1], label1=\"Sample\", label2=\"Background\", ylabel=\"Y values in volts\",suptitle=\"LSMO\", savefile=\"LSMOY.svg\")\n",
    "# plotstyles.scatter_with_hist(arrays_sa2[2],arrays_bg2[2], label1=\"Sample\", label2=\"Background\", ylabel=\"R values in volts\",suptitle=\"LSMO\", savefile=\"LSMOR.svg\")\n",
    "# plotstyles.scatter_with_hist(arrays_sa2[3],arrays_bg2[3], label1=\"Sample\", label2=\"Background\", ylabel=\"phase values in degree\",suptitle=\"LSMO\", savefile=\"LSMOT.svg\")\n",
    "# plotstyles.scatter_with_hist(arrays_sa1[0],arrays_bg1[0], label1=\"Sample\", label2=\"Background\", ylabel=\"X values in volts\",suptitle=\"Nickel\", savefile=\"nickelX.svg\")\n",
    "# plotstyles.scatter_with_hist(arrays_sa1[1],arrays_bg1[1], label1=\"Sample\", label2=\"Background\", ylabel=\"Y values in volts\",suptitle=\"Nickel\", savefile=\"nickelY.svg\")\n",
    "# plotstyles.scatter_with_hist(arrays_sa1[2],arrays_bg1[2], label1=\"Sample\", label2=\"Background\", ylabel=\"R values in volts\",suptitle=\"Nickel\", savefile=\"nickelR.svg\")\n",
    "# plotstyles.scatter_with_hist(arrays_sa1[3],arrays_bg1[3], label1=\"Sample\", label2=\"Background\", ylabel=\"phase values in degree\",suptitle=\"Nickel\", savefile=\"nickelT.svg\")\n",
    "\n"
   ]
  }
 ],
 "metadata": {
  "kernelspec": {
   "display_name": "env",
   "language": "python",
   "name": "python3"
  },
  "language_info": {
   "codemirror_mode": {
    "name": "ipython",
    "version": 3
   },
   "file_extension": ".py",
   "mimetype": "text/x-python",
   "name": "python",
   "nbconvert_exporter": "python",
   "pygments_lexer": "ipython3",
   "version": "3.11.2"
  }
 },
 "nbformat": 4,
 "nbformat_minor": 2
}
